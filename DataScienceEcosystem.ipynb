{
 "cells": [
  {
   "cell_type": "markdown",
   "id": "cc5f13af-c77f-490f-960c-aa56b24c93ae",
   "metadata": {},
   "source": [
    "# Data Science Tools and Ecosystem"
   ]
  },
  {
   "cell_type": "markdown",
   "id": "0ecb6d8a-e055-4431-a594-f8b79d3b6a55",
   "metadata": {},
   "source": [
    "*In this notebook, Data Science Tools and Ecosystem are summarized*"
   ]
  },
  {
   "cell_type": "markdown",
   "id": "f4784dc2-c2cc-47f3-8279-e3ad0ae3526f",
   "metadata": {},
   "source": [
    "**Objectives**\n",
    "\n",
    "- List popular languages for Data Science\n",
    "- List popular Tools for Data Science\n",
    "- start some arithmertic in jupyter notebook"
   ]
  },
  {
   "cell_type": "markdown",
   "id": "fee255a0-5aa8-4644-9d81-c96845ee769e",
   "metadata": {},
   "source": [
    "### Some of the popular languages that Data Scientists use are:"
   ]
  },
  {
   "cell_type": "markdown",
   "id": "1c489b8c-2227-441e-973a-2f126d297875",
   "metadata": {},
   "source": [
    "1. Python\n",
    "2. sql- Structured Query language\n",
    "3. R"
   ]
  },
  {
   "cell_type": "markdown",
   "id": "1bd51ec8-09a4-443d-8388-013bf5102b73",
   "metadata": {},
   "source": [
    "### Some of the commonly used libraries used by Data Scientists include:"
   ]
  },
  {
   "cell_type": "markdown",
   "id": "542985b6-fb49-4758-a975-a350f631c07c",
   "metadata": {},
   "source": [
    "1. NumPy\n",
    "2. SciPy \n",
    "3. TensorFlow\n",
    "4. Pandas\n",
    "5. Matplotlib \n",
    "6. Keras\n",
    "7. SciKit-Learn\n",
    "8. PyTorch"
   ]
  },
  {
   "cell_type": "markdown",
   "id": "b85db612-a9ae-4d03-b70b-01639b97d491",
   "metadata": {
    "tags": []
   },
   "source": [
    "| Data Science Tools |\n",
    "| ----------- | \n",
    "| R studio |\n",
    "| jupyter Notebook |\n",
    "| Apache Spark|"
   ]
  },
  {
   "cell_type": "markdown",
   "id": "fc7fab29-2a70-48ba-be50-8c0a212bb084",
   "metadata": {},
   "source": [
    "### Below are a few examples of evaluating arithmetic expressions in Python"
   ]
  },
  {
   "cell_type": "code",
   "execution_count": 6,
   "id": "f2490a75-2e70-4dba-a5a1-c168d0dd8695",
   "metadata": {},
   "outputs": [
    {
     "data": {
      "text/plain": [
       "17"
      ]
     },
     "execution_count": 6,
     "metadata": {},
     "output_type": "execute_result"
    }
   ],
   "source": [
    "# This a simple arithmetic expression to mutiply then add integers\n",
    "(3*4)+5"
   ]
  },
  {
   "cell_type": "code",
   "execution_count": 12,
   "id": "f951efbd-c2a9-437c-a4a5-980c8b1df33f",
   "metadata": {},
   "outputs": [
    {
     "data": {
      "text/plain": [
       "3.3333333333333335"
      ]
     },
     "execution_count": 12,
     "metadata": {},
     "output_type": "execute_result"
    }
   ],
   "source": [
    "# This will convert 200 minutes to hours by diving by 60\n",
    "\n",
    "200/60"
   ]
  },
  {
   "cell_type": "markdown",
   "id": "08e1c1f6-2c92-4d3f-9c9d-8a3369cae3f3",
   "metadata": {},
   "source": [
    "## Author\n",
    "Emmanuel Yeboah"
   ]
  },
  {
   "cell_type": "code",
   "execution_count": null,
   "id": "3aa47256-97c9-4d46-9954-ec72cf1fb5ba",
   "metadata": {},
   "outputs": [],
   "source": []
  }
 ],
 "metadata": {
  "kernelspec": {
   "display_name": "Python",
   "language": "python",
   "name": "conda-env-python-py"
  },
  "language_info": {
   "codemirror_mode": {
    "name": "ipython",
    "version": 3
   },
   "file_extension": ".py",
   "mimetype": "text/x-python",
   "name": "python",
   "nbconvert_exporter": "python",
   "pygments_lexer": "ipython3",
   "version": "3.7.12"
  }
 },
 "nbformat": 4,
 "nbformat_minor": 5
}
